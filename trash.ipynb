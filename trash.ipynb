{
 "cells": [
  {
   "cell_type": "code",
   "execution_count": 137,
   "id": "d090c8bb",
   "metadata": {},
   "outputs": [],
   "source": [
    "import os\n",
    "import pandas as pd\n",
    "import json\n",
    "from PIL import Image\n",
    "import numpy as np\n",
    "a1dir = \"../../../scratch/lt2326-h21/a1\"\n",
    "imgs = os.listdir(a1dir+'/images')"
   ]
  },
  {
   "cell_type": "code",
   "execution_count": 91,
   "id": "2fa57f43",
   "metadata": {},
   "outputs": [],
   "source": [
    "def expand_bbox(df):\n",
    "    \"\"\"\n",
    "    Expands the content of each 'adjusted_bbox' cell in dataframe to it's own dataframe.\n",
    "    Adds file name to each row.\n",
    "    Returns: dataframe of all bboxes.\n",
    "    \"\"\"\n",
    "    df = df[:1000] # OBS \n",
    "    df = df[['file_name', 'annotations']]\n",
    "    L = []\n",
    "    \n",
    "    for file in df.iterrows():\n",
    "        for sign in file[1]['annotations']:\n",
    "            idx = len(sign) * [file[1]['file_name']]\n",
    "            onesign = pd.DataFrame(sign, index=idx)\n",
    "            L.append(onesign)\n",
    "    return pd.concat(L)"
   ]
  },
  {
   "cell_type": "code",
   "execution_count": 116,
   "id": "cd415272",
   "metadata": {},
   "outputs": [],
   "source": [
    "def get_img_id_metadata(a1dir):\n",
    "    df = pd.read_json(a1dir + \"/train.jsonl\", lines=True)\n",
    "    maindf = expand_bbox(df)\n",
    "    \n",
    "    maindf = maindf[maindf['is_chinese'] == True] # ensures only chinese characters are in\n",
    "    \n",
    "    maindf = maindf.reset_index()\n",
    "    maindf.columns = ['file_name', 'adjusted_bbox', 'attributes', 'is_chinese', 'polygon', 'text']\n",
    "    #maindf = maindf.set_index(['file_name', maindf.index]) # multiindex\n",
    "    \n",
    "    return maindf"
   ]
  },
  {
   "cell_type": "code",
   "execution_count": 118,
   "id": "d5b67d65",
   "metadata": {},
   "outputs": [],
   "source": [
    "mdf = get_img_id_metadata(a1dir)"
   ]
  },
  {
   "cell_type": "code",
   "execution_count": 119,
   "id": "81a5ab7e",
   "metadata": {},
   "outputs": [],
   "source": [
    "file_names = set(mdf.file_name)"
   ]
  },
  {
   "cell_type": "code",
   "execution_count": 147,
   "id": "736cddbd",
   "metadata": {},
   "outputs": [],
   "source": [
    "def get_data(filenames, datadir, imgs):\n",
    "    return [(x, np.array(Image.open(\"{}/{}\".format(datadir, x)).convert('RGB'))) for x in filenames if x in imgs]"
   ]
  },
  {
   "cell_type": "code",
   "execution_count": 148,
   "id": "62c964db",
   "metadata": {},
   "outputs": [],
   "source": [
    "data = get_data(file_names, a1dir+'/images', imgs)"
   ]
  },
  {
   "cell_type": "code",
   "execution_count": 150,
   "id": "df4d3a8b",
   "metadata": {},
   "outputs": [
    {
     "data": {
      "text/plain": [
       "(2048, 2048, 3)"
      ]
     },
     "execution_count": 150,
     "metadata": {},
     "output_type": "execute_result"
    }
   ],
   "source": [
    "data[0][1].shape"
   ]
  },
  {
   "cell_type": "code",
   "execution_count": 131,
   "id": "ab94ed2e",
   "metadata": {},
   "outputs": [
    {
     "name": "stdout",
     "output_type": "stream",
     "text": [
      "155\n"
     ]
    }
   ],
   "source": [
    "z = []\n",
    "for file in file_names:\n",
    "    if file not in imgs:\n",
    "        z.append(file)\n",
    "print(len(z))"
   ]
  },
  {
   "cell_type": "code",
   "execution_count": 133,
   "id": "1acaf097",
   "metadata": {},
   "outputs": [
    {
     "data": {
      "text/plain": [
       "1000"
      ]
     },
     "execution_count": 133,
     "metadata": {},
     "output_type": "execute_result"
    }
   ],
   "source": []
  },
  {
   "cell_type": "code",
   "execution_count": 146,
   "id": "11d784ce",
   "metadata": {},
   "outputs": [
    {
     "data": {
      "text/plain": [
       "'8.2.0'"
      ]
     },
     "execution_count": 146,
     "metadata": {},
     "output_type": "execute_result"
    }
   ],
   "source": []
  },
  {
   "cell_type": "code",
   "execution_count": null,
   "id": "9e94eced",
   "metadata": {},
   "outputs": [],
   "source": []
  }
 ],
 "metadata": {
  "kernelspec": {
   "display_name": "Python 3 (ipykernel)",
   "language": "python",
   "name": "python3"
  },
  "language_info": {
   "codemirror_mode": {
    "name": "ipython",
    "version": 3
   },
   "file_extension": ".py",
   "mimetype": "text/x-python",
   "name": "python",
   "nbconvert_exporter": "python",
   "pygments_lexer": "ipython3",
   "version": "3.9.6"
  }
 },
 "nbformat": 4,
 "nbformat_minor": 5
}
